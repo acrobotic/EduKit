{
 "cells": [
  {
   "cell_type": "markdown",
   "metadata": {},
   "source": [
    "### M00 PhysComp – Intro to Physical Computing\n",
    "#### Exercise: Collecting Temperature and Humidity Data (SHT21)\n",
    "**Date:** 01/04/2019\n",
    "<br/>\n",
    "**Author:** Cisco • A C R O B O T I C 🦿\n",
    "<br/>\n",
    "**Contact Info:**  @[acrobotic](https://twitter.com/acrobotic) (Twitter) • support@acrobotic.com\n",
    "<br/>\n",
    "**Module Link:** [https://github.com/acrobotic/EduKits](https://github.com/acrobotic/EduKits)\n",
    "<br/>\n",
    "**Support:** [https://discord.gg/hbGxaa](https://discord.gg/hbGxaa)\n",
    "<br/>\n",
    "**Filename:** get_data_sht21.ipynb\n",
    "<br/>\n",
    "**Language:** Python 3 (Jupyter Notebook)\n",
    "\n",
    "### Overview\n",
    "\n",
    "The goal of this exercise is to collect data from a temperature and humidity sensor (SHT21), and store it into a .csv file for processing.\n",
    "\n",
    "### List of Materials\n",
    "\n",
    "* Raspberry Pi\n",
    "* 4 Female-to-Female dupont wires\n",
    "* SHT21 temperature and humidity sensor\n",
    "\n",
    "### Hardware Setup\n",
    "\n",
    "<div>\n",
    "    <a target=\"_blank\" href=\"img/wiring_sht21.png\"><img src=\"img/wiring_sht21.png\" width=\"400\" /></a>\n",
    "</div>\n",
    "    \n",
    "### Software Setup\n",
    "\n",
    "NOTES:\n",
    "\n",
    "* i2c must be enabled for this sensor to work\n",
    "\n",
    "With your Raspberry Pi powered up, and the hardware connected, access the notebook by pointing your web browser to the address:\n",
    "\n",
    "`http://raspberry-pi-ip-address:8888/notebooks/get_data_sht21.ipynb`"
   ]
  },
  {
   "cell_type": "markdown",
   "metadata": {},
   "source": [
    "Install the Python libraries in case the system doesn't have them already"
   ]
  },
  {
   "cell_type": "code",
   "execution_count": 1,
   "metadata": {},
   "outputs": [
    {
     "name": "stdout",
     "output_type": "stream",
     "text": [
      "Collecting adafruit-circuitpython-htu21d\n",
      "  Downloading adafruit-circuitpython-HTU21D-0.10.1.tar.gz (19 kB)\n",
      "Collecting Adafruit-Blinka\n",
      "  Downloading Adafruit-Blinka-4.3.0.tar.gz (82 kB)\n",
      "\u001b[K     |████████████████████████████████| 82 kB 813 kB/s eta 0:00:011\n",
      "\u001b[?25hCollecting adafruit-circuitpython-busdevice\n",
      "  Downloading adafruit-circuitpython-busdevice-4.3.1.tar.gz (23 kB)\n",
      "Collecting Adafruit-PlatformDetect>=2.5.0\n",
      "  Downloading Adafruit-PlatformDetect-2.6.0.tar.gz (17 kB)\n",
      "Collecting Adafruit-PureIO>=1.1.0\n",
      "  Downloading Adafruit_PureIO-1.1.0.tar.gz (19 kB)\n",
      "Collecting pyftdi>=0.40.0\n",
      "  Downloading pyftdi-0.50.0-py36-none-any.whl (148 kB)\n",
      "\u001b[K     |████████████████████████████████| 148 kB 9.4 MB/s eta 0:00:01\n",
      "\u001b[?25hCollecting sysv_ipc\n",
      "  Downloading sysv_ipc-1.0.1.tar.gz (102 kB)\n",
      "\u001b[K     |████████████████████████████████| 102 kB 7.2 MB/s ta 0:00:011\n",
      "\u001b[?25hCollecting pyserial>=3.0\n",
      "  Downloading pyserial-3.4-py2.py3-none-any.whl (193 kB)\n",
      "\u001b[K     |████████████████████████████████| 193 kB 10.2 MB/s eta 0:00:01\n",
      "\u001b[?25hCollecting pyusb>=1.0.0\n",
      "  Downloading pyusb-1.0.2.tar.gz (54 kB)\n",
      "\u001b[K     |████████████████████████████████| 54 kB 6.4 MB/s  eta 0:00:01\n",
      "\u001b[?25hBuilding wheels for collected packages: adafruit-circuitpython-htu21d, Adafruit-Blinka, adafruit-circuitpython-busdevice, Adafruit-PlatformDetect, Adafruit-PureIO, sysv-ipc, pyusb\n",
      "  Building wheel for adafruit-circuitpython-htu21d (setup.py) ... \u001b[?25ldone\n",
      "\u001b[?25h  Created wheel for adafruit-circuitpython-htu21d: filename=adafruit_circuitpython_HTU21D-0.10.1-py3-none-any.whl size=5650 sha256=3d28844b108cb0ffb701c05f4eef71fc780685f428506820d6e80b9d242a632e\n",
      "  Stored in directory: /Users/x1sc0/Library/Caches/pip/wheels/2f/5c/e3/3a849018e811e4cca5dac8c52c6f27a43eb27fe3111cb89bc7\n",
      "  Building wheel for Adafruit-Blinka (setup.py) ... \u001b[?25ldone\n",
      "\u001b[?25h  Created wheel for Adafruit-Blinka: filename=Adafruit_Blinka-4.3.0-py3-none-any.whl size=92335 sha256=c95015cd55c350819be96a720f84fe2200d50e32bb61f152411d3ad8c119f155\n",
      "  Stored in directory: /Users/x1sc0/Library/Caches/pip/wheels/05/71/92/0abce1c0a04aaa8f08fdf761f75c351669b833839581323592\n",
      "  Building wheel for adafruit-circuitpython-busdevice (setup.py) ... \u001b[?25ldone\n",
      "\u001b[?25h  Created wheel for adafruit-circuitpython-busdevice: filename=adafruit_circuitpython_busdevice-4.3.1-py3-none-any.whl size=7940 sha256=63aa1b43a9ce551c564baac3e135c7ffd7cf31d0f3eacee3c93bfef1036f5ae7\n",
      "  Stored in directory: /Users/x1sc0/Library/Caches/pip/wheels/18/0e/4f/78b1a93ea494e4ba151d67ac1b8c3da32d7accd08931835717\n",
      "  Building wheel for Adafruit-PlatformDetect (setup.py) ... \u001b[?25ldone\n",
      "\u001b[?25h  Created wheel for Adafruit-PlatformDetect: filename=Adafruit_PlatformDetect-2.6.0-py3-none-any.whl size=13383 sha256=d205c4a949056238bc03bd133e3f19ec90b64b7e2a20b8ee4f1d3396fdf2af10\n",
      "  Stored in directory: /Users/x1sc0/Library/Caches/pip/wheels/24/64/a1/67afb5894ac5d64590ed928872c845347a56e927f3a204a76b\n",
      "  Building wheel for Adafruit-PureIO (setup.py) ... \u001b[?25ldone\n",
      "\u001b[?25h  Created wheel for Adafruit-PureIO: filename=Adafruit_PureIO-1.1.0-py3-none-any.whl size=10550 sha256=210b96e6a2264285648c5a7128c12f7e511a78c9c57cc0143551d0ee8c3afca8\n",
      "  Stored in directory: /Users/x1sc0/Library/Caches/pip/wheels/b8/77/7b/fd09e4f953a29737689d8d5673cb7ce767fdc91f50c82206f4\n",
      "  Building wheel for sysv-ipc (setup.py) ... \u001b[?25ldone\n",
      "\u001b[?25h  Created wheel for sysv-ipc: filename=sysv_ipc-1.0.1-cp37-cp37m-macosx_10_9_x86_64.whl size=19623 sha256=ad109fd56f2397b573c211b39eee96edd4c1ed3b51896cef95cd9fa2c8e60168\n",
      "  Stored in directory: /Users/x1sc0/Library/Caches/pip/wheels/47/59/7e/af8e96ee58fbad18dc728cb342c1bfd1e78a1a3341abc4a934\n",
      "  Building wheel for pyusb (setup.py) ... \u001b[?25ldone\n",
      "\u001b[?25h  Created wheel for pyusb: filename=pyusb-1.0.2-py3-none-any.whl size=57024 sha256=e87fcaa55522525d82fa6e462b6b2fe1ac52962febad7a3e5ac0216c56931a61\n",
      "  Stored in directory: /Users/x1sc0/Library/Caches/pip/wheels/d5/f8/31/eb7d3a347e6a129fba4aa5af35ccf05433f258a383f7e5d746\n",
      "Successfully built adafruit-circuitpython-htu21d Adafruit-Blinka adafruit-circuitpython-busdevice Adafruit-PlatformDetect Adafruit-PureIO sysv-ipc pyusb\n",
      "Installing collected packages: Adafruit-PlatformDetect, Adafruit-PureIO, pyserial, pyusb, pyftdi, sysv-ipc, Adafruit-Blinka, adafruit-circuitpython-busdevice, adafruit-circuitpython-htu21d\n",
      "Successfully installed Adafruit-Blinka-4.3.0 Adafruit-PlatformDetect-2.6.0 Adafruit-PureIO-1.1.0 adafruit-circuitpython-busdevice-4.3.1 adafruit-circuitpython-htu21d-0.10.1 pyftdi-0.50.0 pyserial-3.4 pyusb-1.0.2 sysv-ipc-1.0.1\n"
     ]
    }
   ],
   "source": [
    "# Install a pip package in the current Jupyter kernel\n",
    "'''\n",
    "\n",
    "If running this outputs \"ERROR: Could not find an activated virtualenv (required)\", you'll need to edit your \n",
    "~/.bashrc file. The line below should be set to false:\n",
    "\n",
    "export PIP_REQUIRE_VIRTUALENV=false\n",
    "\n",
    "'''\n",
    "import sys\n",
    "!{sys.executable} -m pip install adafruit-circuitpython-htu21d"
   ]
  },
  {
   "cell_type": "code",
   "execution_count": 2,
   "metadata": {},
   "outputs": [
    {
     "ename": "NotImplementedError",
     "evalue": "Board not supported None",
     "output_type": "error",
     "traceback": [
      "\u001b[0;31m---------------------------------------------------------------------------\u001b[0m",
      "\u001b[0;31mNotImplementedError\u001b[0m                       Traceback (most recent call last)",
      "\u001b[0;32m<ipython-input-2-66375ac475d0>\u001b[0m in \u001b[0;36m<module>\u001b[0;34m\u001b[0m\n\u001b[1;32m      1\u001b[0m \u001b[0;32mimport\u001b[0m \u001b[0mtime\u001b[0m\u001b[0;34m\u001b[0m\u001b[0;34m\u001b[0m\u001b[0m\n\u001b[0;32m----> 2\u001b[0;31m \u001b[0;32mimport\u001b[0m \u001b[0mboard\u001b[0m\u001b[0;34m\u001b[0m\u001b[0;34m\u001b[0m\u001b[0m\n\u001b[0m\u001b[1;32m      3\u001b[0m \u001b[0;32mimport\u001b[0m \u001b[0mbusio\u001b[0m\u001b[0;34m\u001b[0m\u001b[0;34m\u001b[0m\u001b[0m\n\u001b[1;32m      4\u001b[0m \u001b[0;32mfrom\u001b[0m \u001b[0madafruit_htu21d\u001b[0m \u001b[0;32mimport\u001b[0m \u001b[0mHTU21D\u001b[0m\u001b[0;34m\u001b[0m\u001b[0;34m\u001b[0m\u001b[0m\n\u001b[1;32m      5\u001b[0m \u001b[0;34m\u001b[0m\u001b[0m\n",
      "\u001b[0;32m~/opt/anaconda3/lib/python3.7/site-packages/board.py\u001b[0m in \u001b[0;36m<module>\u001b[0;34m\u001b[0m\n\u001b[1;32m    145\u001b[0m \u001b[0;34m\u001b[0m\u001b[0m\n\u001b[1;32m    146\u001b[0m \u001b[0;32melse\u001b[0m\u001b[0;34m:\u001b[0m\u001b[0;34m\u001b[0m\u001b[0;34m\u001b[0m\u001b[0m\n\u001b[0;32m--> 147\u001b[0;31m     \u001b[0;32mraise\u001b[0m \u001b[0mNotImplementedError\u001b[0m\u001b[0;34m(\u001b[0m\u001b[0;34m\"Board not supported {}\"\u001b[0m\u001b[0;34m.\u001b[0m\u001b[0mformat\u001b[0m\u001b[0;34m(\u001b[0m\u001b[0mboard_id\u001b[0m\u001b[0;34m)\u001b[0m\u001b[0;34m)\u001b[0m\u001b[0;34m\u001b[0m\u001b[0;34m\u001b[0m\u001b[0m\n\u001b[0m\u001b[1;32m    148\u001b[0m \u001b[0;34m\u001b[0m\u001b[0m\n\u001b[1;32m    149\u001b[0m \u001b[0;32mdef\u001b[0m \u001b[0mI2C\u001b[0m\u001b[0;34m(\u001b[0m\u001b[0;34m)\u001b[0m\u001b[0;34m:\u001b[0m\u001b[0;34m\u001b[0m\u001b[0;34m\u001b[0m\u001b[0m\n",
      "\u001b[0;31mNotImplementedError\u001b[0m: Board not supported None"
     ]
    }
   ],
   "source": [
    "import time\n",
    "import board\n",
    "import busio\n",
    "from adafruit_htu21d import HTU21D\n",
    " \n",
    "# Create library object using our Bus I2C port\n",
    "i2c = busio.I2C(board.SCL, board.SDA)\n",
    "sensor = HTU21D(i2c)"
   ]
  },
  {
   "cell_type": "code",
   "execution_count": null,
   "metadata": {},
   "outputs": [],
   "source": []
  }
 ],
 "metadata": {
  "kernelspec": {
   "display_name": "Python 3",
   "language": "python",
   "name": "python3"
  },
  "language_info": {
   "codemirror_mode": {
    "name": "ipython",
    "version": 3
   },
   "file_extension": ".py",
   "mimetype": "text/x-python",
   "name": "python",
   "nbconvert_exporter": "python",
   "pygments_lexer": "ipython3",
   "version": "3.7.6"
  }
 },
 "nbformat": 4,
 "nbformat_minor": 4
}
