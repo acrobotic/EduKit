{
 "cells": [
  {
   "cell_type": "markdown",
   "metadata": {},
   "source": [
    "### M00 PhysComp – Intro to Physical Computing\n",
    "#### Exercise: Collecting NY Taxi Trip Data (online)\n",
    "**Date:** 01/04/2019\n",
    "<br/>\n",
    "**Author:** Cisco • A C R O B O T I C 🦿\n",
    "<br/>\n",
    "**Contact Info:**  @[acrobotic](https://twitter.com/acrobotic) (Twitter) • support@acrobotic.com\n",
    "<br/>\n",
    "**Module Link:** [https://github.com/acrobotic/EduKits](https://github.com/acrobotic/EduKits)\n",
    "<br/>\n",
    "**Support:** [https://discord.gg/hbGxaa](https://discord.gg/hbGxaa)\n",
    "<br/>\n",
    "**Filename:** get_data_taxi.ipynb\n",
    "<br/>\n",
    "**Language:** Python 3 (Jupyter Notebook)\n",
    "\n",
    "### Overview\n",
    "\n",
    "The goal of this exercise is to collect online data from taxi cab trips in New York.\n",
    "\n",
    "### List of Materials\n",
    "\n",
    "* Raspberry Pi\n",
    "\n",
    "### Hardware Setup\n",
    "\n",
    "None.\n",
    "\n",
    "### Software Setup\n",
    "\n",
    "With your Raspberry Pi powered up, access the notebook by pointing your web browser to the address:\n",
    "\n",
    "`http://raspberry-pi-ip-address:8888/notebooks/get_data_taxi.ipynb`"
   ]
  },
  {
   "cell_type": "markdown",
   "metadata": {},
   "source": [
    "* Using the Operating System's command line tools download and extract the data from an online repository:"
   ]
  },
  {
   "cell_type": "code",
   "execution_count": null,
   "metadata": {},
   "outputs": [
    {
     "name": "stdout",
     "output_type": "stream",
     "text": [
      "  % Total    % Received % Xferd  Average Speed   Time    Time     Time  Current\n",
      "                                 Dload  Upload   Total   Spent    Left  Speed\n",
      "100 86.8M  100 86.8M    0     0   9.8M      0  0:00:08  0:00:08 --:--:-- 13.5M\n",
      "Archive:  nyc_taxi.zip\n",
      "replace data/nyc_data.csv? [y]es, [n]o, [A]ll, [N]one, [r]ename: "
     ]
    }
   ],
   "source": [
    "!curl https://raw.githubusercontent.com/ipython-books/minibook-2nd-data/master/nyc_taxi.zip --output nyc_taxi.zip\n",
    "!unzip nyc_taxi.zip"
   ]
  },
  {
   "cell_type": "markdown",
   "metadata": {},
   "source": [
    "* Using the Operating System's command line tools verify that the data was downloaded successfully:"
   ]
  },
  {
   "cell_type": "code",
   "execution_count": 3,
   "metadata": {},
   "outputs": [
    {
     "name": "stdout",
     "output_type": "stream",
     "text": [
      "\u001b[31mnyc_data.csv\u001b[m\u001b[m* \u001b[31mnyc_fare.csv\u001b[m\u001b[m*\r\n"
     ]
    }
   ],
   "source": [
    "%ls data"
   ]
  }
 ],
 "metadata": {
  "kernelspec": {
   "display_name": "Python 3",
   "language": "python",
   "name": "python3"
  },
  "language_info": {
   "codemirror_mode": {
    "name": "ipython",
    "version": 3
   },
   "file_extension": ".py",
   "mimetype": "text/x-python",
   "name": "python",
   "nbconvert_exporter": "python",
   "pygments_lexer": "ipython3",
   "version": "3.7.6"
  }
 },
 "nbformat": 4,
 "nbformat_minor": 4
}
