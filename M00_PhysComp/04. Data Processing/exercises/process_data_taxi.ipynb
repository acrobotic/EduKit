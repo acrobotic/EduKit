{
 "cells": [
  {
   "cell_type": "markdown",
   "metadata": {},
   "source": [
    "### M00 PhysComp – Intro to Physical Computing\n",
    "#### Exercise: Processing NY Taxi Trip Data\n",
    "**Date:** 01/04/2019\n",
    "<br/>\n",
    "**Author:** Cisco • A C R O B O T I C 🦿\n",
    "<br/>\n",
    "**Contact Info:**  @[acrobotic](https://twitter.com/acrobotic) (Twitter) • support@acrobotic.com\n",
    "<br/>\n",
    "**Module Link:** [https://github.com/acrobotic/EduKits](https://github.com/acrobotic/EduKits)\n",
    "<br/>\n",
    "**Support:** [https://discord.gg/hbGxaa](https://discord.gg/hbGxaa)\n",
    "<br/>\n",
    "**Filename:** process_data_taxi.ipynb\n",
    "<br/>\n",
    "**Language:** Python 3 (Jupyter Notebook)\n",
    "\n",
    "### Overview\n",
    "\n",
    "The goal of this exercise is to process and visualize online data from taxi cab trips in New York.\n",
    "\n",
    "### List of Materials\n",
    "\n",
    "* Raspberry Pi\n",
    "\n",
    "### Hardware Setup\n",
    "\n",
    "None.\n",
    "\n",
    "### Software Setup\n",
    "\n",
    "Ensure you've followed the steps in `get_data_taxi.ipynb`."
   ]
  },
  {
   "cell_type": "markdown",
   "metadata": {},
   "source": [
    "* Include all the libraries we'll need for processing the data"
   ]
  },
  {
   "cell_type": "code",
   "execution_count": 41,
   "metadata": {},
   "outputs": [],
   "source": [
    "import numpy as np\n",
    "import pandas as pd\n",
    "import matplotlib.pyplot as plt\n",
    "%matplotlib inline"
   ]
  },
  {
   "cell_type": "markdown",
   "metadata": {},
   "source": [
    "* Declare variables for storing the location (relative paths) of the files in the operating system"
   ]
  },
  {
   "cell_type": "code",
   "execution_count": 42,
   "metadata": {},
   "outputs": [],
   "source": [
    "data_filename = 'data/nyc_data.csv'\n",
    "fare_filename = 'data/nyc_fare.csv'"
   ]
  },
  {
   "cell_type": "markdown",
   "metadata": {},
   "source": [
    "* Use pandas to read the csv data into variables"
   ]
  },
  {
   "cell_type": "code",
   "execution_count": 43,
   "metadata": {},
   "outputs": [],
   "source": [
    "data = pd.read_csv(data_filename, parse_dates=['pickup_datetime',\n",
    "                                               'dropoff_datetime'])\n",
    "fare = pd.read_csv(fare_filename, parse_dates=['pickup_datetime'])"
   ]
  },
  {
   "cell_type": "markdown",
   "metadata": {},
   "source": [
    "* Use the dot notation to print out to an output cell the contents of the columns in the `data` object"
   ]
  },
  {
   "cell_type": "code",
   "execution_count": 44,
   "metadata": {},
   "outputs": [
    {
     "data": {
      "text/plain": [
       "Index(['medallion', 'hack_license', 'vendor_id', 'rate_code',\n",
       "       'store_and_fwd_flag', 'pickup_datetime', 'dropoff_datetime',\n",
       "       'passenger_count', 'trip_time_in_secs', 'trip_distance',\n",
       "       'pickup_longitude', 'pickup_latitude', 'dropoff_longitude',\n",
       "       'dropoff_latitude'],\n",
       "      dtype='object')"
      ]
     },
     "execution_count": 44,
     "metadata": {},
     "output_type": "execute_result"
    }
   ],
   "source": [
    "data.columns"
   ]
  },
  {
   "cell_type": "markdown",
   "metadata": {},
   "source": [
    "* Assign specific data to variables for plotting, that is, the latitude and longitude of pickup locations"
   ]
  },
  {
   "cell_type": "code",
   "execution_count": 45,
   "metadata": {},
   "outputs": [],
   "source": [
    "p_lng = data.pickup_longitude\n",
    "p_lat = data.pickup_latitude"
   ]
  },
  {
   "cell_type": "markdown",
   "metadata": {},
   "source": [
    "* Define a function for converting latitude and longitude values to `(x,y)` pixel coordinates for visualizing the data "
   ]
  },
  {
   "cell_type": "code",
   "execution_count": 46,
   "metadata": {},
   "outputs": [],
   "source": [
    "def lat_lng_to_pixels(lat, lng):\n",
    "    lat_rad = lat * np.pi / 180.0\n",
    "    lat_rad = np.log(np.tan((lat_rad + np.pi / 2.0) / 2.0))\n",
    "    x = 100 * (lng + 180.0) / 360.0\n",
    "    y = 100 * (lat_rad - np.pi) / (2.0 * np.pi)\n",
    "    return (x, y)"
   ]
  },
  {
   "cell_type": "code",
   "execution_count": 47,
   "metadata": {},
   "outputs": [],
   "source": [
    "px, py = lat_lng_to_pixels(p_lat, p_lng)"
   ]
  },
  {
   "cell_type": "markdown",
   "metadata": {},
   "source": [
    "* Generate a scatter plot of the latitude and longitude data in `(x,y)` coordinate space"
   ]
  },
  {
   "cell_type": "code",
   "execution_count": null,
   "metadata": {},
   "outputs": [],
   "source": [
    "plt.scatter(px, py)"
   ]
  },
  {
   "cell_type": "markdown",
   "metadata": {},
   "source": [
    "* Resize the figure and configure it for better visualization"
   ]
  },
  {
   "cell_type": "code",
   "execution_count": null,
   "metadata": {},
   "outputs": [],
   "source": [
    "plt.figure(figsize=(8, 6))\n",
    "plt.scatter(px, py, s=.1, alpha=.03)\n",
    "plt.axis('equal')\n",
    "plt.xlim(29.40, 29.55)\n",
    "plt.ylim(-37.63, -37.54)\n",
    "plt.axis('off')"
   ]
  }
 ],
 "metadata": {
  "kernelspec": {
   "display_name": "Python 3",
   "language": "python",
   "name": "python3"
  },
  "language_info": {
   "codemirror_mode": {
    "name": "ipython",
    "version": 3
   },
   "file_extension": ".py",
   "mimetype": "text/x-python",
   "name": "python",
   "nbconvert_exporter": "python",
   "pygments_lexer": "ipython3",
   "version": "3.7.3"
  }
 },
 "nbformat": 4,
 "nbformat_minor": 4
}
