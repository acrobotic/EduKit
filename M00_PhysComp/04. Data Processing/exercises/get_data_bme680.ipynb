{
 "cells": [
  {
   "cell_type": "markdown",
   "metadata": {},
   "source": [
    "# M00 PhysComp – Intro to Physical Computing\n",
    "#### Exercise: Collecting Environmental Data (BME680)\n",
    "**Date:** 01/04/2019\n",
    "<br/>\n",
    "**Author:** Cisco • A C R O B O T I C 🦿\n",
    "<br/>\n",
    "**Contact Info:**  @[acrobotic](https://twitter.com/acrobotic) (Twitter) • support@acrobotic.com\n",
    "<br/>\n",
    "**Module Link:** [https://github.com/acrobotic/EduKits](https://github.com/acrobotic/EduKits)\n",
    "<br/>\n",
    "**Support:** [https://discord.gg/hbGxaa](https://discord.gg/hbGxaa)\n",
    "<br/>\n",
    "**Filename:** get_data_bme680.ipynb\n",
    "<br/>\n",
    "**Language:** Python 3 (Jupyter Notebook)\n",
    "\n",
    "### Overview\n",
    "\n",
    "The goal of this exercise is to collect data from a temperature and humidity sensor (SHT21), and store it into a .csv file for processing.\n",
    "\n",
    "### List of Materials\n",
    "\n",
    "* Raspberry Pi\n",
    "* 4 Female-to-Female dupont wires\n",
    "* SHT21 temperature and humidity sensor\n",
    "\n",
    "### Hardware Setup\n",
    "\n",
    "<div>\n",
    "    <a target=\"_blank\" href=\"resources/wiring_sht21.png\"><img src=\"resources/wiring_sht21.png\" width=\"400\" /></a>\n",
    "</div>\n",
    "    \n",
    "### Software Setup\n",
    "\n",
    "NOTES:\n",
    "\n",
    "* i2c must be enabled for this sensor to work\n",
    "\n",
    "With your Raspberry Pi powered up, and the hardware connected, access the notebook by pointing your web browser to the address:\n",
    "\n",
    "`http://raspberry-pi-ip-address:8888/notebooks/get_data_sht21.ipynb`"
   ]
  },
  {
   "cell_type": "markdown",
   "metadata": {},
   "source": [
    "* Install the Python libraries in case the system doesn't have them already"
   ]
  },
  {
   "cell_type": "code",
   "execution_count": null,
   "metadata": {},
   "outputs": [],
   "source": [
    "# Install a pip package in the current Jupyter kernel\n",
    "'''\n",
    "If running this outputs \"ERROR: Could not find an activated virtualenv (required)\", you'll need to edit your \n",
    "~/.bashrc file. The line below should be set to false:\n",
    "\n",
    "export PIP_REQUIRE_VIRTUALENV=false\n",
    "'''\n",
    "import sys\n",
    "!{sys.executable} -m pip install bme680"
   ]
  },
  {
   "cell_type": "markdown",
   "metadata": {},
   "source": [
    "* With the libraries installed, we include them in this script along with others that are needed"
   ]
  },
  {
   "cell_type": "code",
   "execution_count": 18,
   "metadata": {},
   "outputs": [],
   "source": [
    "import bme680\n",
    "import os, time\n",
    "from datetime import datetime"
   ]
  },
  {
   "cell_type": "markdown",
   "metadata": {},
   "source": [
    "* We can create an instance of the sensor class that's defined in the imported library. We use the instance\n",
    "to configure properties of the physical sensor."
   ]
  },
  {
   "cell_type": "code",
   "execution_count": null,
   "metadata": {},
   "outputs": [],
   "source": [
    "sensor = bme680.BME680(0x77)\n",
    "sensor.set_humidity_oversample(bme680.OS_2X)\n",
    "sensor.set_pressure_oversample(bme680.OS_4X)\n",
    "sensor.set_temperature_oversample(bme680.OS_8X)\n",
    "sensor.set_filter(bme680.FILTER_SIZE_3)\n",
    "sensor.set_gas_status(bme680.ENABLE_GAS_MEAS)\n",
    "sensor.set_gas_heater_temperature(320)\n",
    "sensor.set_gas_heater_duration(150)\n",
    "sensor.select_gas_heater_profile(0)"
   ]
  },
  {
   "cell_type": "markdown",
   "metadata": {},
   "source": [
    "* Setup directory and file where we want to store the data"
   ]
  },
  {
   "cell_type": "code",
   "execution_count": 29,
   "metadata": {},
   "outputs": [
    {
     "name": "stdout",
     "output_type": "stream",
     "text": [
      "time (GMT),date,temperature (C),humidity (%),pressure (kPa)\n",
      "\n"
     ]
    }
   ],
   "source": [
    "# If the log file exists open it\n",
    "if os.path.exists(\"data/bme680.csv\"):\n",
    "      output_file = open(\"data/bme680.csv\",\"a\")\n",
    "# If the log file doesn't exist see if the folder is there. if the folder is there open a new file and \n",
    "# write the headers  \n",
    "else:\n",
    "    headers = \"time (GMT),date,temperature (C),humidity (%),pressure (kPa)\\n\" \n",
    "    \n",
    "    if os.path.isdir(\"data\"):\n",
    "        print(headers)\n",
    "        output_file = open(\"data/bme680.csv\",\"a\")\n",
    "        output_file.write(headers)\n",
    "#if the folder isnt there then make it and make a new log file and write the headers\n",
    "    else:\n",
    "        os.mkdir(\"data\")\n",
    "        output_file = open(\"data/bme680.csv\",\"a\")\n",
    "        output_file.write(headers)"
   ]
  },
  {
   "cell_type": "markdown",
   "metadata": {},
   "source": [
    "* Log data for some time using the imported library time"
   ]
  },
  {
   "cell_type": "code",
   "execution_count": 30,
   "metadata": {},
   "outputs": [
    {
     "name": "stdout",
     "output_type": "stream",
     "text": [
      "00:45:19, 04/16/2020, 27.21, 31.889, 986.7\n",
      "00:45:20, 04/16/2020, 27.05, 34.058, 986.68\n",
      "00:45:21, 04/16/2020, 26.98, 34.028, 986.66\n",
      "00:45:22, 04/16/2020, 26.96, 33.997, 986.66\n",
      "00:45:23, 04/16/2020, 26.95, 33.92, 986.67\n",
      "00:45:24, 04/16/2020, 26.95, 33.855, 986.66\n",
      "00:45:25, 04/16/2020, 26.97, 33.799, 986.67\n",
      "00:45:26, 04/16/2020, 26.99, 33.729, 986.66\n",
      "00:45:27, 04/16/2020, 27.01, 33.65, 986.66\n",
      "00:45:28, 04/16/2020, 27.03, 33.55, 986.65\n",
      "00:45:29, 04/16/2020, 27.05, 33.464, 986.64\n",
      "00:45:30, 04/16/2020, 27.08, 33.377, 986.63\n",
      "00:45:31, 04/16/2020, 27.1, 33.277, 986.61\n",
      "00:45:32, 04/16/2020, 27.12, 33.198, 986.63\n",
      "00:45:33, 04/16/2020, 27.14, 33.107, 986.63\n",
      "00:45:34, 04/16/2020, 27.16, 33.002, 986.66\n",
      "00:45:35, 04/16/2020, 27.18, 32.884, 986.62\n",
      "00:45:36, 04/16/2020, 27.2, 32.762, 986.62\n",
      "00:45:37, 04/16/2020, 27.21, 32.592, 986.63\n",
      "00:45:38, 04/16/2020, 27.23, 32.48, 986.63\n"
     ]
    }
   ],
   "source": [
    "t_start = time.time()\n",
    "while (time.time()-t_start) < 20:\n",
    "    if sensor.get_sensor_data():\n",
    "        temperature = sensor.data.temperature #rename to freindly vairables\n",
    "        pressure = sensor.data.pressure\n",
    "        humidity = sensor.data.humidity        \n",
    "        data = datetime.now().strftime(\"%H:%M:%S, %m/%d/%Y\") + \\\n",
    "            \", \" + str(temperature) + \", \" + str(humidity) + \", \" + str(pressure)\n",
    "        print(data)\n",
    "# Write the current line of data to the log file\n",
    "        output_file.write(data + \"\\n\") \n",
    "# Wait 1 second between measurements\n",
    "    time.sleep(1)\n",
    "output_file.close()"
   ]
  }
 ],
 "metadata": {
  "kernelspec": {
   "display_name": "Python 3",
   "language": "python",
   "name": "python3"
  },
  "language_info": {
   "codemirror_mode": {
    "name": "ipython",
    "version": 3
   },
   "file_extension": ".py",
   "mimetype": "text/x-python",
   "name": "python",
   "nbconvert_exporter": "python",
   "pygments_lexer": "ipython3",
   "version": "3.7.3"
  }
 },
 "nbformat": 4,
 "nbformat_minor": 4
}
