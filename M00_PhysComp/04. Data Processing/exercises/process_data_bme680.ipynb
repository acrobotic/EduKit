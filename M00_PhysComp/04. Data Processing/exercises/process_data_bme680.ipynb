{
 "cells": [
  {
   "cell_type": "markdown",
   "metadata": {},
   "source": [
    "# M00 PhysComp – Intro to Physical Computing\n",
    "#### Exercise: Processing Environmental Data (BME680)\n",
    "**Date:** 01/04/2019\n",
    "<br/>\n",
    "**Author:** Cisco • A C R O B O T I C 🦿\n",
    "<br/>\n",
    "**Contact Info:**  @[acrobotic](https://twitter.com/acrobotic) (Twitter) • support@acrobotic.com\n",
    "<br/>\n",
    "**Module Link:** [https://github.com/acrobotic/EduKits](https://github.com/acrobotic/EduKits)\n",
    "<br/>\n",
    "**Support:** [https://discord.gg/hbGxaa](https://discord.gg/hbGxaa)\n",
    "<br/>\n",
    "**Filename:** process_data_bme680.ipynb\n",
    "<br/>\n",
    "**Language:** Python 3 (Jupyter Notebook)\n",
    "\n",
    "### Overview\n",
    "\n",
    "The goal of this exercise is to process and visualize locally stored data collected from an Environmental Sensor.\n",
    "\n",
    "### List of Materials\n",
    "\n",
    "None.\n",
    "\n",
    "### Hardware Setup\n",
    "\n",
    "None.\n",
    "    \n",
    "### Software Setup\n",
    "\n",
    "Ensure you've followed the steps in `get_data_bme680.ipynb` and that the file `bme680.csv` exists using the *Jupyter* navigator from within your browser."
   ]
  },
  {
   "cell_type": "markdown",
   "metadata": {},
   "source": [
    "* Include all the libraries we'll need for processing the data"
   ]
  },
  {
   "cell_type": "code",
   "execution_count": 4,
   "metadata": {},
   "outputs": [],
   "source": [
    "from pandas import read_csv\n",
    "from matplotlib import pyplot"
   ]
  },
  {
   "cell_type": "markdown",
   "metadata": {},
   "source": [
    "* Read the csv data from the file "
   ]
  },
  {
   "cell_type": "code",
   "execution_count": 33,
   "metadata": {},
   "outputs": [
    {
     "name": "stdout",
     "output_type": "stream",
     "text": [
      "<class 'pandas.core.frame.DataFrame'>\n",
      "                          date  temperature (C)  humidity (%)  pressure (kPa)\n",
      "time (GMT)                                                                   \n",
      "2020-04-16 00:45:19 2020-04-16            27.21        31.889          986.70\n",
      "2020-04-16 00:45:20 2020-04-16            27.05        34.058          986.68\n",
      "2020-04-16 00:45:21 2020-04-16            26.98        34.028          986.66\n",
      "2020-04-16 00:45:22 2020-04-16            26.96        33.997          986.66\n",
      "2020-04-16 00:45:23 2020-04-16            26.95        33.920          986.67\n"
     ]
    }
   ],
   "source": [
    "# Load Environmental Data using read_csv\n",
    "series = read_csv('data/bme680.csv', header=0, parse_dates=[0,1], index_col='time (GMT)', squeeze=True)\n",
    "print(type(series))\n",
    "print(series.head())"
   ]
  },
  {
   "cell_type": "markdown",
   "metadata": {},
   "source": [
    "* Example of accessing the data rows for a specific measurement, that is, the value entries for that measurement"
   ]
  },
  {
   "cell_type": "code",
   "execution_count": 34,
   "metadata": {},
   "outputs": [
    {
     "data": {
      "text/plain": [
       "time (GMT)\n",
       "2020-04-16 00:45:19    27.21\n",
       "2020-04-16 00:45:20    27.05\n",
       "2020-04-16 00:45:21    26.98\n",
       "2020-04-16 00:45:22    26.96\n",
       "2020-04-16 00:45:23    26.95\n",
       "2020-04-16 00:45:24    26.95\n",
       "2020-04-16 00:45:25    26.97\n",
       "2020-04-16 00:45:26    26.99\n",
       "2020-04-16 00:45:27    27.01\n",
       "2020-04-16 00:45:28    27.03\n",
       "2020-04-16 00:45:29    27.05\n",
       "2020-04-16 00:45:30    27.08\n",
       "2020-04-16 00:45:31    27.10\n",
       "2020-04-16 00:45:32    27.12\n",
       "2020-04-16 00:45:33    27.14\n",
       "2020-04-16 00:45:34    27.16\n",
       "2020-04-16 00:45:35    27.18\n",
       "2020-04-16 00:45:36    27.20\n",
       "2020-04-16 00:45:37    27.21\n",
       "2020-04-16 00:45:38    27.23\n",
       "Name: temperature (C), dtype: float64"
      ]
     },
     "execution_count": 34,
     "metadata": {},
     "output_type": "execute_result"
    }
   ],
   "source": [
    "series['temperature (C)']"
   ]
  },
  {
   "cell_type": "markdown",
   "metadata": {},
   "source": [
    "* Example plot of the timeseries data"
   ]
  },
  {
   "cell_type": "code",
   "execution_count": 35,
   "metadata": {},
   "outputs": [
    {
     "data": {
      "image/png": "[encoded data removed]",
      "text/plain": [
       "<Figure size 432x288 with 1 Axes>"
      ]
     },
     "metadata": {
      "needs_background": "light"
     },
     "output_type": "display_data"
    }
   ],
   "source": [
    "series['temperature (C)'].plot(linewidth=0.5);"
   ]
  }
 ],
 "metadata": {
  "kernelspec": {
   "display_name": "Python 3",
   "language": "python",
   "name": "python3"
  },
  "language_info": {
   "codemirror_mode": {
    "name": "ipython",
    "version": 3
   },
   "file_extension": ".py",
   "mimetype": "text/x-python",
   "name": "python",
   "nbconvert_exporter": "python",
   "pygments_lexer": "ipython3",
   "version": "3.7.3"
  }
 },
 "nbformat": 4,
 "nbformat_minor": 2
}
